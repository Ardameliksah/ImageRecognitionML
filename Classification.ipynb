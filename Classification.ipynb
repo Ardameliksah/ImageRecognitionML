{
 "cells": [
  {
   "cell_type": "code",
   "execution_count": 2,
   "metadata": {},
   "outputs": [
    {
     "name": "stdout",
     "output_type": "stream",
     "text": [
      "(20000, 28, 28)\n",
      "(5000, 28, 28)\n",
      "(28, 28)\n",
      "[1 3 3 ... 2 3 2]\n"
     ]
    }
   ],
   "source": [
    "import numpy as np\n",
    "\n",
    "train_images = np.load('quickdraw_subset_np/train_images.npy')\n",
    "train_labels = np.load('quickdraw_subset_np/train_labels.npy')\n",
    "test_images = np.load('quickdraw_subset_np/test_images.npy')\n",
    "test_labels = np.load('quickdraw_subset_np/test_labels.npy')\n",
    "\n",
    "print(train_images.shape) # (20000, 28, 28)\n",
    "print(test_images.shape) # (5000, 28, 28)\n",
    "print(train_images[0].shape) # 28 x 28\n",
    "print(train_labels) "
   ]
  },
  {
   "cell_type": "code",
   "execution_count": 7,
   "metadata": {},
   "outputs": [
    {
     "data": {
      "text/plain": [
       "<matplotlib.image.AxesImage at 0x1907fd0a510>"
      ]
     },
     "execution_count": 7,
     "metadata": {},
     "output_type": "execute_result"
    },
    {
     "data": {
      "image/png": "[encoded data removed]",
      "text/plain": [
       "<Figure size 640x480 with 1 Axes>"
      ]
     },
     "metadata": {},
     "output_type": "display_data"
    }
   ],
   "source": [
    "import matplotlib.pyplot as plt\n",
    "\n",
    "plt.imshow(train_images[1234])\n"
   ]
  },
  {
   "cell_type": "code",
   "execution_count": 3,
   "metadata": {},
   "outputs": [],
   "source": [
    "##Feature Extraction\n",
    "\n",
    "train_flat = train_images.reshape(train_images.shape[0], -1)\n",
    "test_flat = test_images.reshape(test_images.shape[0], -1)\n",
    "\n",
    "# PCA\n",
    "#https://medium.com/technological-singularity/build-a-principal-component-analysis-pca-algorithm-from-scratch-7515595bf08b\n",
    "def PCA_from_Scratch(X, n_components):\n",
    "    n_rows = X.shape[0]\n",
    "    X = (X - np.mean(X,axis=0))/(np.std(X,axis=0)+1e-4)\n",
    "    cov_mat = sum([X[i].reshape(-1, 1) @ X[i].reshape(1, -1) for i in range(n_rows)]) / n_rows\n",
    "    eigen_values, eigen_vectors  = np.linalg.eig(cov_mat)\n",
    "    sort = np.argsort(eigen_values)[::-1]\n",
    "    principal_components = eigen_vectors[:,sort]\n",
    "    return principal_components[:n_components]\n",
    "\n",
    "def transform(X,principal_components):\n",
    "  X = X.copy()\n",
    "  X_proj = X.dot(principal_components.T)\n",
    "  return X_proj\n",
    "\n",
    "\n",
    "# LDA \n",
    "#https://www.kaggle.com/code/egazakharenko/linear-discriminant-analysis-lda-from-scratch\n",
    "class LDA():\n",
    "  def __init__(self, n_components=None):\n",
    "     self.n_components = n_components\n",
    "  def fit(self,X,y):\n",
    "     self.X = X\n",
    "     self.y = y\n",
    "     samples = X.shape[0]\n",
    "     features= X.shape[1]\n",
    "     classes, cls_counts = np.unique(y,return_counts=True)\n",
    "     priors = cls_counts/samples\n",
    "     X_mean = np.array([X[y==cls].mean(axis=0) for cls in classes])\n",
    "     betweenCLSdeviation = X_mean - X.mean(axis=0)\n",
    "     withinCLSdeviation = X - X_mean[y]\n",
    "\n",
    "     Sb = priors* betweenCLSdeviation.T @ betweenCLSdeviation\n",
    "     Sw = withinCLSdeviation.T @ withinCLSdeviation / samples\n",
    "     Sw_inv = np.linalg.pinv(Sw)\n",
    "     eigvals, eigvecs = np.linalg.eig(Sw_inv @ Sb)\n",
    "     self.dvecs = eigvecs[:, np.argsort(eigvals)[::-1]]\n",
    "     self.weights = X_mean @ self.dvecs @ self.dvecs.T\n",
    "     self.bias = np.log(priors) - 0.5 * np.diag(X_mean @ self.weights.T)\n",
    "     if self.n_components is None:\n",
    "        self.n_components = min(classes.size - 1, features)\n",
    "  def transform(self, X):\n",
    "    return X @ self.dvecs[:, : self.n_components]\n",
    "\n",
    "  def predict(self, X_test):\n",
    "    scores = X_test @ self.weights.T + self.bias\n",
    "    return np.argmax(scores, axis=1)\n",
    "  \n"
   ]
  },
  {
   "cell_type": "code",
   "execution_count": null,
   "metadata": {},
   "outputs": [],
   "source": [
    "pcs = PCA_from_Scratch(train_flat, 2)\n",
    "train_proj = transform(train_flat, pcs)\n",
    "train_proj.shape\n"
   ]
  },
  {
   "cell_type": "code",
   "execution_count": 16,
   "metadata": {},
   "outputs": [],
   "source": [
    "train_normal = train_flat/255\n",
    "test_normal = test_flat/255\n",
    "train_normal.shape\n",
    "lda = LDA()\n",
    "lda.fit(train_normal,train_labels)\n",
    "lda_train = lda.transform(train_normal)\n",
    "lda_test = lda.transform(test_normal)"
   ]
  },
  {
   "cell_type": "code",
   "execution_count": 17,
   "metadata": {},
   "outputs": [],
   "source": [
    "class myKNearesNeighbour():\n",
    "    def __init__(self, k):\n",
    "        self.k = k\n",
    "    def fit(self, X_train,y_train):\n",
    "        self.X_train = X_train\n",
    "        self.y_train = y_train\n",
    "    def predict(self, X_test):\n",
    "        self.X_test = X_test\n",
    "        y_pred = np.zeros(self.X_test.shape[0])\n",
    "        for i, image in enumerate(X_test):\n",
    "            neighbours = self.findNeighbours(image)\n",
    "            y_pred[i] = self.mode(neighbours)\n",
    "        return y_pred\n",
    "    def findNeighbours(self, image):\n",
    "        sortedList = np.argsort(self.Euclidean(image)) \n",
    "        y_train_sorted = self.y_train[sortedList]\n",
    "        return y_train_sorted[:self.k]\n",
    "    def mode(self, vector):\n",
    "        values, counts = np.unique(vector, return_counts=True)\n",
    "        return values[np.argmax(counts)]\n",
    "    def Euclidean(self,image):\n",
    "        distances = np.sqrt(np.sum((self.X_train - image) ** 2, axis=1))\n",
    "        return distances\n",
    "    \n",
    "        \n",
    "\n",
    "def score(y_pred, y_true):\n",
    "        accuracy = np.mean(y_pred == y_true)\n",
    "        return accuracy\n",
    "train_normal = train_flat/255\n",
    "test_normal = test_flat/255"
   ]
  },
  {
   "cell_type": "code",
   "execution_count": 23,
   "metadata": {},
   "outputs": [
    {
     "name": "stdout",
     "output_type": "stream",
     "text": [
      "0.7192\n",
      "0.734\n",
      "0.7424\n",
      "0.7474\n"
     ]
    }
   ],
   "source": [
    "train_normal = train_flat/255\n",
    "test_normal = test_flat/255\n",
    "\n",
    "n_neighbours = [3,5,7,9]\n",
    "scores = []\n",
    "for k in n_neighbours:\n",
    "    KNN = myKNearesNeighbour(k)\n",
    "    KNN.fit(lda_train,train_labels)\n",
    "    y_pred = KNN.predict(lda_test)\n",
    "    result = score(y_pred, test_labels)\n",
    "    scores.append(result)\n",
    "    print(result)\n",
    "\n",
    "\n"
   ]
  },
  {
   "cell_type": "code",
   "execution_count": 22,
   "metadata": {},
   "outputs": [
    {
     "data": {
      "text/plain": [
       "<function __main__.score(y_pred, y_true)>"
      ]
     },
     "execution_count": 22,
     "metadata": {},
     "output_type": "execute_result"
    }
   ],
   "source": [
    "scores[0]"
   ]
  },
  {
   "cell_type": "code",
   "execution_count": 38,
   "metadata": {},
   "outputs": [
    {
     "name": "stdout",
     "output_type": "stream",
     "text": [
      "One is done\n",
      "One is done\n",
      "One is done\n",
      "One is done\n",
      "One is done\n"
     ]
    }
   ],
   "source": [
    "componentAmount = [16, 32, 64, 128, 256]\n",
    "principal_comps = []\n",
    "train_transform = []\n",
    "test_transform = []\n",
    "y_pred = []\n",
    "scorePCA = []\n",
    "\n",
    "for number in componentAmount:\n",
    "    pcs = PCA_from_Scratch(train_flat, number)\n",
    "    principal_comps.append(pcs)\n",
    "    \n",
    "    train_proj = transform(train_flat, pcs)\n",
    "    test_proj = transform(test_flat, pcs)\n",
    "    train_transform.append(train_proj)\n",
    "    test_transform.append(test_proj)\n",
    "    \n",
    "    KNN_PCA = myKNearesNeighbour(3)\n",
    "    KNN_PCA.fit(train_proj, train_labels)\n",
    "    pred = KNN_PCA.predict(test_proj)\n",
    "    y_pred.append(pred)\n",
    "    \n",
    "    scorePCA.append(score(pred, test_labels))\n",
    "    print(\"One is done\")\n"
   ]
  },
  {
   "cell_type": "code",
   "execution_count": 39,
   "metadata": {},
   "outputs": [
    {
     "data": {
      "text/plain": [
       "[0.44, 0.549, 0.6848, 0.7766, 0.8148]"
      ]
     },
     "execution_count": 39,
     "metadata": {},
     "output_type": "execute_result"
    }
   ],
   "source": [
    "scorePCA\n"
   ]
  },
  {
   "cell_type": "code",
   "execution_count": 11,
   "metadata": {},
   "outputs": [],
   "source": [
    "class myNaiveBayes():\n",
    "    def __init__(self):\n",
    "        self.priors = {}\n",
    "        self.likelihoods = {}\n",
    "    def fit(self,X_train,y_train):\n",
    "        self.X_train = X_train\n",
    "        self.y_train = y_train\n",
    "        self.classes = np.unique(y_train)\n",
    "        for w in self.classes:\n",
    "            X_train_w = X_train[y_train == w]\n",
    "            P_w = X_train_w.shape[0] / X_train.shape[0] # Prior Densities P(w_j)\n",
    "            self.priors[w] = P_w\n",
    "            self.likelihoods[w] = {}\n",
    "            for x in range(X_train.shape[1]):\n",
    "                feature_x = X_train_w[:,x]\n",
    "                mean_x_w = np.mean(feature_x)\n",
    "                var_x_w = np.var(feature_x)\n",
    "                self.likelihoods[w][x] = (mean_x_w, var_x_w)\n",
    "\n",
    "    def gaussianDensity(self,x,mean,var):\n",
    "        denu = 1.0 / np.sqrt(2.0 * np.pi * (var + 1e-4))\n",
    "        inexp = -((x - mean) ** 2) / (2 * (var + 1e-4))\n",
    "        return denu*np.exp(inexp)\n",
    "    \n",
    "    def predict(self, X_test):\n",
    "        y_pred = []\n",
    "        for x in X_test:\n",
    "            posteriors = {}\n",
    "            for c in self.classes:\n",
    "                log_prior = np.log(self.priors[c])\n",
    "                log_likelihood = 0\n",
    "                for i in range(len(x)):\n",
    "                    mean, var = self.likelihoods[c][i]\n",
    "                    log_likelihood += np.log(self.gaussianDensity(x[i], mean, var))\n",
    "                posteriors[c] = log_prior+log_likelihood\n",
    "            y_pred.append(max(posteriors, key=posteriors.get))\n",
    "        return y_pred"
   ]
  },
  {
   "cell_type": "code",
   "execution_count": 13,
   "metadata": {},
   "outputs": [
    {
     "name": "stderr",
     "output_type": "stream",
     "text": [
      "C:\\Users\\Asus\\AppData\\Local\\Temp\\ipykernel_9304\\2853722943.py:34: RuntimeWarning: divide by zero encountered in log\n",
      "  log_likelihood += np.log(self.gaussianDensity(x[i], mean, var))\n"
     ]
    },
    {
     "data": {
      "text/plain": [
       "0.5674"
      ]
     },
     "execution_count": 13,
     "metadata": {},
     "output_type": "execute_result"
    }
   ],
   "source": [
    "mybayes = myNaiveBayes()\n",
    "mybayes.fit(train_normal,train_labels)\n",
    "y_pred = mybayes.predict(test_normal)\n",
    "score(y_pred,test_labels)"
   ]
  },
  {
   "cell_type": "code",
   "execution_count": 3,
   "metadata": {},
   "outputs": [],
   "source": [
    "import numpy as np\n",
    "\n",
    "class myMultiClassLogisticRegression():\n",
    "    def __init__(self, learning_rate=0.1, maxiterations=10000, mu=0.0):\n",
    "        \"\"\"\n",
    "        :param learning_rate: Step size for gradient descent (eta).\n",
    "        :param maxiterations: Number of iterations to run gradient descent.\n",
    "        :param mu: L2 regularization coefficient.\n",
    "        \"\"\"\n",
    "        self.learning_rate = learning_rate\n",
    "        self.maxiterations = maxiterations\n",
    "        self.mu = mu  # regularization strength\n",
    "        self.W = None  # weight matrix\n",
    "\n",
    "    def OneHotEncoder(self, y_train, num_classes):\n",
    "        \"\"\"\n",
    "        Convert integer labels (0..num_classes-1) into one-hot vectors.\n",
    "        :param y_train: shape (N,)\n",
    "        :param num_classes: total number of classes\n",
    "        :return: one-hot array of shape (N, num_classes)\n",
    "        \"\"\"\n",
    "        y_trainNew = np.zeros((y_train.shape[0], num_classes))\n",
    "        for i, label in enumerate(y_train):\n",
    "            y_trainNew[i, label] = 1\n",
    "        return y_trainNew\n",
    "\n",
    "    def softmax(self, Z):\n",
    "        \"\"\"\n",
    "        Numerically stable softmax.\n",
    "        :param Z: shape (N, C) - the logits for each class\n",
    "        :return: shape (N, C) - the softmax probabilities\n",
    "        \"\"\"\n",
    "        Z_shifted = Z - np.max(Z, axis=1, keepdims=True)  # stability\n",
    "        exp_Z = np.exp(Z_shifted)\n",
    "        return exp_Z / np.sum(exp_Z, axis=1, keepdims=True)\n",
    "\n",
    "    def loss(self, X, Y, W):\n",
    "        \n",
    "        N = X.shape[0]\n",
    "        logits = X @ W  # shape (N, C)\n",
    "        P = self.softmax(logits)  # shape (N, C)\n",
    "        eps = 1e-15\n",
    "        cross_entropy = -np.mean(np.sum(Y * np.log(P + eps), axis=1))\n",
    "        # L2 regularization term\n",
    "        reg_term = self.mu * np.sum(W**2)\n",
    "        return cross_entropy + reg_term\n",
    "\n",
    "    def gradient(self, X, Y, W):\n",
    "        \n",
    "        N = X.shape[0]\n",
    "        logits = X @ W  # shape (N, C)\n",
    "        P = self.softmax(logits)  # shape (N, C)\n",
    "        grad = (1.0 / N) * (X.T @ (P - Y)) + 2.0 * self.mu * W\n",
    "        return grad\n",
    "\n",
    "    def fit(self, X_train, y_train):\n",
    "       \n",
    "        self.n_images, self.n_features = X_train.shape\n",
    "        num_classes = len(np.unique(y_train))\n",
    "\n",
    "        # One-hot encode the labels\n",
    "        Y_onehot = self.OneHotEncoder(y_train, num_classes)\n",
    "\n",
    "        # Initialize weights (d, C)\n",
    "        self.W = np.zeros((self.n_features, num_classes))\n",
    "\n",
    "        # Run gradient descent\n",
    "        for _ in range(self.maxiterations):\n",
    "            grad = self.gradient(X_train, Y_onehot, self.W)\n",
    "            self.W -= self.learning_rate * grad\n",
    "\n",
    "    def predict(self, X_test):\n",
    "       \n",
    "        logits = X_test @ self.W  # shape (M, C)\n",
    "        P = self.softmax(logits)  # shape (M, C)\n",
    "        return np.argmax(P, axis=1)\n",
    "\n",
    "        "
   ]
  },
  {
   "cell_type": "code",
   "execution_count": 15,
   "metadata": {},
   "outputs": [
    {
     "data": {
      "text/plain": [
       "0.7508"
      ]
     },
     "execution_count": 15,
     "metadata": {},
     "output_type": "execute_result"
    }
   ],
   "source": [
    "myLog = myMultiClassLogisticRegression()\n",
    "myLog.fit(train_normal,train_labels)\n",
    "y_pred = myLog.predict(test_normal)\n",
    "score(y_pred,test_labels)"
   ]
  },
  {
   "cell_type": "code",
   "execution_count": 12,
   "metadata": {},
   "outputs": [],
   "source": [
    "import numpy as np\n",
    "\n",
    "class OneVsAllLogisticRegression:\n",
    "    def __init__(self, learning_rate=0.1, max_iter=1000, _lambda=0.1):\n",
    "        self.learning_rate = learning_rate\n",
    "        self.max_iter = max_iter\n",
    "        self._lambda = _lambda\n",
    "        self.classifiers = None\n",
    "        self.classes_ = None\n",
    "\n",
    "    def sigmoid(self, z):\n",
    "        return 1.0 / (1 + np.exp(-z))\n",
    "\n",
    "    def cost_fun(self, W, X, y):\n",
    "        N  = X.shape[0]\n",
    "        h = self.sigmoid(X @ W)\n",
    "        eps = 1e-15\n",
    "        cost = -(1.0/N) * (y.T @ np.log(h + eps) + (1 - y).T @ np.log(1 - h + eps)) + (self._lambda / (2*N)) * np.sum(W**2)\n",
    "        return cost\n",
    "\n",
    "    def gradient(self, W, X, y):\n",
    "        N = X.shape[0]\n",
    "        h = self.sigmoid(X @ W)\n",
    "        grad = (1.0/N) * X.T @ (h - y) + (self._lambda/N) * W\n",
    "        return grad\n",
    "\n",
    "    def fit(self, X, y):\n",
    "        m, n = X.shape\n",
    "        self.classes_ = np.unique(y)\n",
    "        k = len(self.classes_)\n",
    "        all_theta = np.zeros((k, n))\n",
    "        for i, cls in enumerate(self.classes_):\n",
    "            binary_y = (y == cls).astype(float)\n",
    "            theta = np.zeros(n)\n",
    "            for _ in range(self.max_iter):\n",
    "                theta -= self.learning_rate * self.gradient(theta, X, binary_y)\n",
    "            all_theta[i] = theta\n",
    "        self.classifiers = all_theta\n",
    "\n",
    "    def predict(self, X):\n",
    "        probs = self.sigmoid(X.dot(self.classifiers.T))\n",
    "        predictions = np.array([self.classes_[np.argmax(probs[i])] for i in range(X.shape[0])])\n",
    "        return predictions\n"
   ]
  },
  {
   "cell_type": "code",
   "execution_count": null,
   "metadata": {},
   "outputs": [
    {
     "ename": "TypeError",
     "evalue": "macroF1() got an unexpected keyword argument 'y_test'",
     "output_type": "error",
     "traceback": [
      "\u001b[1;31m---------------------------------------------------------------------------\u001b[0m",
      "\u001b[1;31mTypeError\u001b[0m                                 Traceback (most recent call last)",
      "Cell \u001b[1;32mIn[13], line 30\u001b[0m\n\u001b[0;32m     28\u001b[0m y_pred \u001b[38;5;241m=\u001b[39m modelOA\u001b[38;5;241m.\u001b[39mpredict(test_normal)\n\u001b[0;32m     29\u001b[0m accuracy \u001b[38;5;241m=\u001b[39m score(y_pred\u001b[38;5;241m=\u001b[39my_pred,y_test\u001b[38;5;241m=\u001b[39mtest_labels)\n\u001b[1;32m---> 30\u001b[0m macro \u001b[38;5;241m=\u001b[39m macroF1(y_pred\u001b[38;5;241m=\u001b[39my_pred,y_test\u001b[38;5;241m=\u001b[39mtest_labels)            \n\u001b[0;32m     31\u001b[0m results\u001b[38;5;241m.\u001b[39mappend((lr, accuracy))\n\u001b[0;32m     32\u001b[0m \u001b[38;5;28mprint\u001b[39m(\u001b[38;5;124m\"\u001b[39m\u001b[38;5;124mOnevsAll Learning Rate:\u001b[39m\u001b[38;5;124m\"\u001b[39m, lr, \u001b[38;5;124m\"\u001b[39m\u001b[38;5;124mLambda:\u001b[39m\u001b[38;5;124m\"\u001b[39m, lamb, \u001b[38;5;124m\"\u001b[39m\u001b[38;5;124mTest Accuracy:\u001b[39m\u001b[38;5;124m\"\u001b[39m, accuracy)\n",
      "\u001b[1;31mTypeError\u001b[0m: macroF1() got an unexpected keyword argument 'y_test'"
     ]
    }
   ],
   "source": [
    "learning_rates = [0.01, 0.1, 0.5, 1.0]\n",
    "lambas = [0, 0.01, 0.05, 0.1, 0.5, 1]\n",
    "results = []\n",
    "accuracy = []\n",
    "\n",
    "def macroF1(y_pred, y_true):\n",
    "    labels = np.unique(y_true)\n",
    "    f1_scores = []\n",
    "\n",
    "    for label in labels:\n",
    "        tp = np.sum((y_pred == label) & (y_true == label))\n",
    "        fp = np.sum((y_pred == label) & (y_true != label))\n",
    "        fn = np.sum((y_pred != label) & (y_true == label))\n",
    "\n",
    "        precision = tp / (tp + fp + 1e-8)\n",
    "        recall = tp / (tp + fn + 1e-8)\n",
    "        \n",
    "        f1 = 2 * precision * recall / (precision + recall + 1e-8)\n",
    "        f1_scores.append(f1)\n",
    "\n",
    "for lr in learning_rates:\n",
    "    for lamb in lambas:\n",
    "        modelOA = OneVsAllLogisticRegression(learning_rate=lr, max_iter=1000, _lambda=lamb)\n",
    "        \n",
    "        modelMC = myMultiClassLogisticRegression(learning_rate=lr, maxiterations=1000, mu=lr)\n",
    "        \n",
    "        modelOA.fit(train_normal, train_labels)\n",
    "        y_pred = modelOA.predict(test_normal)\n",
    "        accuracy = score(y_pred=y_pred,y_true=test_labels)\n",
    "        macro = macroF1(y_pred=y_pred,y_true=test_labels)            \n",
    "        results.append((lr, accuracy))\n",
    "        print(\"OnevsAll Learning Rate:\", lr, \"Lambda:\", lamb, \"Test Accuracy:\", accuracy)\n",
    "\n",
    "        modelMC.fit(train_normal, train_labels)\n",
    "        y_pred = modelMC.predict(test_normal)\n",
    "        accuracy = score(y_pred=y_pred,y_true=test_labels)\n",
    "        macro = macroF1(y_pred=y_pred,y_true=test_labels)            \n",
    "        results.append((lr, accuracy))\n",
    "        print(\"MultiClass Learning Rate:\", lr, \"Lambda:\", lamb, \"Test Accuracy:\", accuracy)\n"
   ]
  }
 ],
 "metadata": {
  "kernelspec": {
   "display_name": "base",
   "language": "python",
   "name": "python3"
  },
  "language_info": {
   "codemirror_mode": {
    "name": "ipython",
    "version": 3
   },
   "file_extension": ".py",
   "mimetype": "text/x-python",
   "name": "python",
   "nbconvert_exporter": "python",
   "pygments_lexer": "ipython3",
   "version": "3.11.4"
  }
 },
 "nbformat": 4,
 "nbformat_minor": 2
}
